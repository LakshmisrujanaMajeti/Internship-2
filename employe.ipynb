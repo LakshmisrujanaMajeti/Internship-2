{
  "nbformat": 4,
  "nbformat_minor": 0,
  "metadata": {
    "colab": {
      "provenance": [],
      "authorship_tag": "ABX9TyO1EMi+I16poC2lyZUPNQ7f",
      "include_colab_link": true
    },
    "kernelspec": {
      "name": "python3",
      "display_name": "Python 3"
    },
    "language_info": {
      "name": "python"
    }
  },
  "cells": [
    {
      "cell_type": "markdown",
      "metadata": {
        "id": "view-in-github",
        "colab_type": "text"
      },
      "source": [
        "<a href=\"https://colab.research.google.com/github/LakshmisrujanaMajeti/Internship-2/blob/main/employe.ipynb\" target=\"_parent\"><img src=\"https://colab.research.google.com/assets/colab-badge.svg\" alt=\"Open In Colab\"/></a>"
      ]
    },
    {
      "cell_type": "code",
      "execution_count": 1,
      "metadata": {
        "id": "ZHeS85QghX_T"
      },
      "outputs": [],
      "source": [
        "import pandas as pd\n"
      ]
    },
    {
      "cell_type": "code",
      "source": [
        "from google.colab import drive\n",
        "drive.mount('/content/drive')"
      ],
      "metadata": {
        "colab": {
          "base_uri": "https://localhost:8080/"
        },
        "id": "dGqcmxpRmHy3",
        "outputId": "184874a4-d15e-4d5e-9d82-247fbca83a17"
      },
      "execution_count": 2,
      "outputs": [
        {
          "output_type": "stream",
          "name": "stdout",
          "text": [
            "Mounted at /content/drive\n"
          ]
        }
      ]
    },
    {
      "cell_type": "code",
      "source": [
        "\n",
        "df = pd.read_excel(\"/content/drive/MyDrive/Employee_Details_Dataset.xlsx\")\n",
        "df.head()\n",
        "print(df)"
      ],
      "metadata": {
        "colab": {
          "base_uri": "https://localhost:8080/"
        },
        "id": "WS_6ewefpHE8",
        "outputId": "92a31813-3b9e-402d-de9b-6e8268b76ea5"
      },
      "execution_count": 8,
      "outputs": [
        {
          "output_type": "stream",
          "name": "stdout",
          "text": [
            "  Employee ID           Name  Age  Department        Designation  \\\n",
            "0        E001       John Doe   30          IT  Software Engineer   \n",
            "1        E002     Jane Smith   27          HR         HR Manager   \n",
            "2        E003  Alice Johnson   35     Finance         Accountant   \n",
            "3        E004      Bob Brown   40  Operations    Operations Head   \n",
            "4        E005  Charlie Davis   29   Marketing     Marketing Lead   \n",
            "\n",
            "  Date of Joining  Salary                   Email  Phone Number  \\\n",
            "0      2020-06-15   70000    john.doe@example.com  123-456-7890   \n",
            "1      2018-03-20   65000  jane.smith@example.com  987-654-3210   \n",
            "2      2015-11-01   80000     alice.j@example.com  456-789-1230   \n",
            "3      2012-08-18  100000       bob.b@example.com  321-654-9870   \n",
            "4      2019-07-10   75000   charlie.d@example.com  654-123-0987   \n",
            "\n",
            "                Address  \n",
            "0    123 Elm Street, NY  \n",
            "1    456 Oak Street, CA  \n",
            "2   789 Pine Street, TX  \n",
            "3  234 Maple Street, WA  \n",
            "4  567 Cedar Street, IL  \n"
          ]
        }
      ]
    },
    {
      "cell_type": "code",
      "source": [
        "print('first few rows:')\n",
        "print(df.head())"
      ],
      "metadata": {
        "colab": {
          "base_uri": "https://localhost:8080/"
        },
        "id": "NPDklK9r_ep7",
        "outputId": "2205fe8e-ce6f-43df-9d69-12492f36d20c"
      },
      "execution_count": 9,
      "outputs": [
        {
          "output_type": "stream",
          "name": "stdout",
          "text": [
            "first few rows:\n",
            "  Employee ID           Name  Age  Department        Designation  \\\n",
            "0        E001       John Doe   30          IT  Software Engineer   \n",
            "1        E002     Jane Smith   27          HR         HR Manager   \n",
            "2        E003  Alice Johnson   35     Finance         Accountant   \n",
            "3        E004      Bob Brown   40  Operations    Operations Head   \n",
            "4        E005  Charlie Davis   29   Marketing     Marketing Lead   \n",
            "\n",
            "  Date of Joining  Salary                   Email  Phone Number  \\\n",
            "0      2020-06-15   70000    john.doe@example.com  123-456-7890   \n",
            "1      2018-03-20   65000  jane.smith@example.com  987-654-3210   \n",
            "2      2015-11-01   80000     alice.j@example.com  456-789-1230   \n",
            "3      2012-08-18  100000       bob.b@example.com  321-654-9870   \n",
            "4      2019-07-10   75000   charlie.d@example.com  654-123-0987   \n",
            "\n",
            "                Address  \n",
            "0    123 Elm Street, NY  \n",
            "1    456 Oak Street, CA  \n",
            "2   789 Pine Street, TX  \n",
            "3  234 Maple Street, WA  \n",
            "4  567 Cedar Street, IL  \n"
          ]
        }
      ]
    },
    {
      "cell_type": "code",
      "source": [
        "print(\"/n summary statistics:\")\n",
        "print(df.describe())"
      ],
      "metadata": {
        "colab": {
          "base_uri": "https://localhost:8080/"
        },
        "id": "VbE5DG43_wxW",
        "outputId": "f43a01ff-8094-4971-e4ca-30308caae33e"
      },
      "execution_count": 10,
      "outputs": [
        {
          "output_type": "stream",
          "name": "stdout",
          "text": [
            "/n summary statistics:\n",
            "             Age         Salary\n",
            "count   5.000000       5.000000\n",
            "mean   32.200000   78000.000000\n",
            "std     5.263079   13509.256086\n",
            "min    27.000000   65000.000000\n",
            "25%    29.000000   70000.000000\n",
            "50%    30.000000   75000.000000\n",
            "75%    35.000000   80000.000000\n",
            "max    40.000000  100000.000000\n"
          ]
        }
      ]
    },
    {
      "cell_type": "code",
      "source": [
        "filtered_data = df[df['Age'] > 30]\n",
        "print(\"/n filtered data(age>30):\")\n",
        "print(filtered_data)"
      ],
      "metadata": {
        "colab": {
          "base_uri": "https://localhost:8080/"
        },
        "id": "ok--QZL7_-tY",
        "outputId": "511507e4-1124-4ea5-cd79-4b4a7f90e7e4"
      },
      "execution_count": 11,
      "outputs": [
        {
          "output_type": "stream",
          "name": "stdout",
          "text": [
            "/n filtered data(age>30):\n",
            "  Employee ID           Name  Age  Department      Designation  \\\n",
            "2        E003  Alice Johnson   35     Finance       Accountant   \n",
            "3        E004      Bob Brown   40  Operations  Operations Head   \n",
            "\n",
            "  Date of Joining  Salary                Email  Phone Number  \\\n",
            "2      2015-11-01   80000  alice.j@example.com  456-789-1230   \n",
            "3      2012-08-18  100000    bob.b@example.com  321-654-9870   \n",
            "\n",
            "                Address  \n",
            "2   789 Pine Street, TX  \n",
            "3  234 Maple Street, WA  \n"
          ]
        }
      ]
    },
    {
      "cell_type": "code",
      "source": [
        "sorted_data=df.sort_values(by='Salary',ascending=False)\n",
        "print(\"/n sorted data(salary in descending order):\")\n",
        "print(sorted_data)"
      ],
      "metadata": {
        "colab": {
          "base_uri": "https://localhost:8080/"
        },
        "id": "6hxPFYFAARon",
        "outputId": "f6065017-4579-4467-8871-61e9dbaf907b"
      },
      "execution_count": 14,
      "outputs": [
        {
          "output_type": "stream",
          "name": "stdout",
          "text": [
            "/n sorted data(salary in descending order):\n",
            "  Employee ID           Name  Age  Department        Designation  \\\n",
            "3        E004      Bob Brown   40  Operations    Operations Head   \n",
            "2        E003  Alice Johnson   35     Finance         Accountant   \n",
            "4        E005  Charlie Davis   29   Marketing     Marketing Lead   \n",
            "0        E001       John Doe   30          IT  Software Engineer   \n",
            "1        E002     Jane Smith   27          HR         HR Manager   \n",
            "\n",
            "  Date of Joining  Salary                   Email  Phone Number  \\\n",
            "3      2012-08-18  100000       bob.b@example.com  321-654-9870   \n",
            "2      2015-11-01   80000     alice.j@example.com  456-789-1230   \n",
            "4      2019-07-10   75000   charlie.d@example.com  654-123-0987   \n",
            "0      2020-06-15   70000    john.doe@example.com  123-456-7890   \n",
            "1      2018-03-20   65000  jane.smith@example.com  987-654-3210   \n",
            "\n",
            "                Address  \n",
            "3  234 Maple Street, WA  \n",
            "2   789 Pine Street, TX  \n",
            "4  567 Cedar Street, IL  \n",
            "0    123 Elm Street, NY  \n",
            "1    456 Oak Street, CA  \n"
          ]
        }
      ]
    },
    {
      "cell_type": "code",
      "source": [
        "df['Bonus']=df['Salary']*0.1\n",
        "print(\"/n Data with new column (Bonus):\")\n",
        "print(df)"
      ],
      "metadata": {
        "colab": {
          "base_uri": "https://localhost:8080/"
        },
        "id": "uLj525P1AxgP",
        "outputId": "10499a3b-e83d-4b85-e3c9-1020791d5e7a"
      },
      "execution_count": 15,
      "outputs": [
        {
          "output_type": "stream",
          "name": "stdout",
          "text": [
            "/n Data with new column (Bonus):\n",
            "  Employee ID           Name  Age  Department        Designation  \\\n",
            "0        E001       John Doe   30          IT  Software Engineer   \n",
            "1        E002     Jane Smith   27          HR         HR Manager   \n",
            "2        E003  Alice Johnson   35     Finance         Accountant   \n",
            "3        E004      Bob Brown   40  Operations    Operations Head   \n",
            "4        E005  Charlie Davis   29   Marketing     Marketing Lead   \n",
            "\n",
            "  Date of Joining  Salary                   Email  Phone Number  \\\n",
            "0      2020-06-15   70000    john.doe@example.com  123-456-7890   \n",
            "1      2018-03-20   65000  jane.smith@example.com  987-654-3210   \n",
            "2      2015-11-01   80000     alice.j@example.com  456-789-1230   \n",
            "3      2012-08-18  100000       bob.b@example.com  321-654-9870   \n",
            "4      2019-07-10   75000   charlie.d@example.com  654-123-0987   \n",
            "\n",
            "                Address    Bonus  \n",
            "0    123 Elm Street, NY   7000.0  \n",
            "1    456 Oak Street, CA   6500.0  \n",
            "2   789 Pine Street, TX   8000.0  \n",
            "3  234 Maple Street, WA  10000.0  \n",
            "4  567 Cedar Street, IL   7500.0  \n"
          ]
        }
      ]
    },
    {
      "cell_type": "code",
      "source": [
        "df.to_excel('output.xlsx',index=False)\n",
        "print(\"/n Data exported to output.xlsx\")"
      ],
      "metadata": {
        "colab": {
          "base_uri": "https://localhost:8080/"
        },
        "id": "owug0xgXBuPK",
        "outputId": "529e7c03-833f-42f5-f19b-8985ef80180a"
      },
      "execution_count": 16,
      "outputs": [
        {
          "output_type": "stream",
          "name": "stdout",
          "text": [
            "/n Data exported to output.xlsx\n"
          ]
        }
      ]
    }
  ]
}